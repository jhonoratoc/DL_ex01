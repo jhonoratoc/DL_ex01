{
 "cells": [
  {
   "cell_type": "code",
   "execution_count": 2,
   "metadata": {},
   "outputs": [],
   "source": [
    "import numpy as np\n",
    "from random import uniform\n",
    "from sklearn.utils import shuffle\n",
    "from sklearn.model_selection import train_test_split\n",
    "import tensorflow as tf\n",
    "from tensorflow import keras\n",
    "from tensorflow.keras.models import Sequential\n",
    "from tensorflow.keras.layers import Activation, Dense\n",
    "from tensorflow.keras.optimizers import Adam\n",
    "from sklearn.metrics import mean_absolute_error\n",
    "from matplotlib import pyplot as plt"
   ]
  },
  {
   "cell_type": "code",
   "execution_count": 3,
   "metadata": {},
   "outputs": [],
   "source": [
    "def generate_time_series_data(n):\n",
    "    return np.sin(n + np.sin(n)**2)\n",
    "\n",
    "input_samples = []\n",
    "output_labels = []\n",
    "\n",
    "input_range = 10 #pra cada ponto, olharemos 10 pontos antes\n",
    "step_size = 0.3#amostras de valores entre n-8 até n e variando 0.3 entre cada valor\n",
    "for n in range(0, 40):\n",
    "    input_data = []\n",
    "    output_data = []\n",
    "    for x in np.arange(n - input_range, n, step_size):\n",
    "        input_data.append(generate_time_series_data(x))\n",
    "    input_samples.append(input_data)\n",
    "    for y in np.arange(n, n + 3, step_size):\n",
    "        output_data.append(generate_time_series_data(y))\n",
    "    output_labels.append(output_data)\n"
   ]
  },
  {
   "cell_type": "code",
   "execution_count": 4,
   "metadata": {},
   "outputs": [],
   "source": [
    "input_samples = np.array(input_samples)\n",
    "output_labels = np.array(output_labels)"
   ]
  },
  {
   "cell_type": "code",
   "execution_count": 5,
   "metadata": {},
   "outputs": [
    {
     "name": "stdout",
     "output_type": "stream",
     "text": [
      "(32, 34)\n",
      "(32, 10)\n"
     ]
    }
   ],
   "source": [
    "train_input, test_input, train_output, test_output = train_test_split(input_samples, output_labels, test_size=0.2, random_state=33)\n",
    "print(train_input.shape)\n",
    "print(train_output.shape)"
   ]
  },
  {
   "cell_type": "code",
   "execution_count": 6,
   "metadata": {},
   "outputs": [],
   "source": [
    "neural_network_model = Sequential([\n",
    "    Dense(units=5, input_shape=(34,), activation='relu'),   \n",
    "    Dense(units=10, activation='linear'),\n",
    "])"
   ]
  },
  {
   "cell_type": "code",
   "execution_count": 7,
   "metadata": {},
   "outputs": [],
   "source": [
    "neural_network_model.compile(optimizer=Adam(learning_rate=0.1), loss='mean_squared_error', metrics=['mean_absolute_error'])"
   ]
  },
  {
   "cell_type": "code",
   "execution_count": 8,
   "metadata": {},
   "outputs": [
    {
     "name": "stdout",
     "output_type": "stream",
     "text": [
      "Epoch 1/100\n",
      "1/1 - 1s - loss: 0.5353 - mean_absolute_error: 0.6069 - val_loss: 0.3467 - val_mean_absolute_error: 0.4678 - 559ms/epoch - 559ms/step\n",
      "Epoch 2/100\n",
      "1/1 - 0s - loss: 0.3318 - mean_absolute_error: 0.4650 - val_loss: 0.4482 - val_mean_absolute_error: 0.5507 - 29ms/epoch - 29ms/step\n",
      "Epoch 3/100\n",
      "1/1 - 0s - loss: 0.3623 - mean_absolute_error: 0.4897 - val_loss: 0.3135 - val_mean_absolute_error: 0.4603 - 27ms/epoch - 27ms/step\n",
      "Epoch 4/100\n",
      "1/1 - 0s - loss: 0.2740 - mean_absolute_error: 0.4209 - val_loss: 0.2183 - val_mean_absolute_error: 0.3777 - 27ms/epoch - 27ms/step\n",
      "Epoch 5/100\n",
      "1/1 - 0s - loss: 0.2027 - mean_absolute_error: 0.3507 - val_loss: 0.2045 - val_mean_absolute_error: 0.3728 - 26ms/epoch - 26ms/step\n",
      "Epoch 6/100\n",
      "1/1 - 0s - loss: 0.1893 - mean_absolute_error: 0.3490 - val_loss: 0.1975 - val_mean_absolute_error: 0.3700 - 30ms/epoch - 30ms/step\n",
      "Epoch 7/100\n",
      "1/1 - 0s - loss: 0.1725 - mean_absolute_error: 0.3336 - val_loss: 0.1848 - val_mean_absolute_error: 0.3481 - 27ms/epoch - 27ms/step\n",
      "Epoch 8/100\n",
      "1/1 - 0s - loss: 0.1548 - mean_absolute_error: 0.3163 - val_loss: 0.1706 - val_mean_absolute_error: 0.3325 - 27ms/epoch - 27ms/step\n",
      "Epoch 9/100\n",
      "1/1 - 0s - loss: 0.1259 - mean_absolute_error: 0.2844 - val_loss: 0.1481 - val_mean_absolute_error: 0.3072 - 30ms/epoch - 30ms/step\n",
      "Epoch 10/100\n",
      "1/1 - 0s - loss: 0.0988 - mean_absolute_error: 0.2496 - val_loss: 0.1296 - val_mean_absolute_error: 0.2903 - 30ms/epoch - 30ms/step\n",
      "Epoch 11/100\n",
      "1/1 - 0s - loss: 0.0872 - mean_absolute_error: 0.2371 - val_loss: 0.1158 - val_mean_absolute_error: 0.2704 - 31ms/epoch - 31ms/step\n",
      "Epoch 12/100\n",
      "1/1 - 0s - loss: 0.0840 - mean_absolute_error: 0.2372 - val_loss: 0.1044 - val_mean_absolute_error: 0.2539 - 28ms/epoch - 28ms/step\n",
      "Epoch 13/100\n",
      "1/1 - 0s - loss: 0.0797 - mean_absolute_error: 0.2292 - val_loss: 0.0942 - val_mean_absolute_error: 0.2455 - 26ms/epoch - 26ms/step\n",
      "Epoch 14/100\n",
      "1/1 - 0s - loss: 0.0735 - mean_absolute_error: 0.2181 - val_loss: 0.0889 - val_mean_absolute_error: 0.2392 - 25ms/epoch - 25ms/step\n",
      "Epoch 15/100\n",
      "1/1 - 0s - loss: 0.0713 - mean_absolute_error: 0.2169 - val_loss: 0.0830 - val_mean_absolute_error: 0.2308 - 28ms/epoch - 28ms/step\n",
      "Epoch 16/100\n",
      "1/1 - 0s - loss: 0.0674 - mean_absolute_error: 0.2110 - val_loss: 0.0733 - val_mean_absolute_error: 0.2236 - 27ms/epoch - 27ms/step\n",
      "Epoch 17/100\n",
      "1/1 - 0s - loss: 0.0583 - mean_absolute_error: 0.1963 - val_loss: 0.0699 - val_mean_absolute_error: 0.2239 - 27ms/epoch - 27ms/step\n",
      "Epoch 18/100\n",
      "1/1 - 0s - loss: 0.0533 - mean_absolute_error: 0.1833 - val_loss: 0.0805 - val_mean_absolute_error: 0.2368 - 32ms/epoch - 32ms/step\n",
      "Epoch 19/100\n",
      "1/1 - 0s - loss: 0.0557 - mean_absolute_error: 0.1840 - val_loss: 0.0914 - val_mean_absolute_error: 0.2475 - 25ms/epoch - 25ms/step\n",
      "Epoch 20/100\n",
      "1/1 - 0s - loss: 0.0559 - mean_absolute_error: 0.1826 - val_loss: 0.0901 - val_mean_absolute_error: 0.2443 - 27ms/epoch - 27ms/step\n",
      "Epoch 21/100\n",
      "1/1 - 0s - loss: 0.0514 - mean_absolute_error: 0.1766 - val_loss: 0.0788 - val_mean_absolute_error: 0.2302 - 28ms/epoch - 28ms/step\n",
      "Epoch 22/100\n",
      "1/1 - 0s - loss: 0.0505 - mean_absolute_error: 0.1820 - val_loss: 0.0747 - val_mean_absolute_error: 0.2240 - 28ms/epoch - 28ms/step\n",
      "Epoch 23/100\n",
      "1/1 - 0s - loss: 0.0502 - mean_absolute_error: 0.1844 - val_loss: 0.0735 - val_mean_absolute_error: 0.2196 - 30ms/epoch - 30ms/step\n",
      "Epoch 24/100\n",
      "1/1 - 0s - loss: 0.0454 - mean_absolute_error: 0.1739 - val_loss: 0.0720 - val_mean_absolute_error: 0.2083 - 30ms/epoch - 30ms/step\n",
      "Epoch 25/100\n",
      "1/1 - 0s - loss: 0.0430 - mean_absolute_error: 0.1697 - val_loss: 0.0695 - val_mean_absolute_error: 0.2069 - 29ms/epoch - 29ms/step\n",
      "Epoch 26/100\n",
      "1/1 - 0s - loss: 0.0440 - mean_absolute_error: 0.1719 - val_loss: 0.0684 - val_mean_absolute_error: 0.2089 - 28ms/epoch - 28ms/step\n",
      "Epoch 27/100\n",
      "1/1 - 0s - loss: 0.0435 - mean_absolute_error: 0.1724 - val_loss: 0.0686 - val_mean_absolute_error: 0.2126 - 31ms/epoch - 31ms/step\n",
      "Epoch 28/100\n",
      "1/1 - 0s - loss: 0.0421 - mean_absolute_error: 0.1710 - val_loss: 0.0644 - val_mean_absolute_error: 0.2090 - 35ms/epoch - 35ms/step\n",
      "Epoch 29/100\n",
      "1/1 - 0s - loss: 0.0409 - mean_absolute_error: 0.1707 - val_loss: 0.0615 - val_mean_absolute_error: 0.2077 - 30ms/epoch - 30ms/step\n",
      "Epoch 30/100\n",
      "1/1 - 0s - loss: 0.0389 - mean_absolute_error: 0.1674 - val_loss: 0.0632 - val_mean_absolute_error: 0.2096 - 28ms/epoch - 28ms/step\n",
      "Epoch 31/100\n",
      "1/1 - 0s - loss: 0.0375 - mean_absolute_error: 0.1628 - val_loss: 0.0635 - val_mean_absolute_error: 0.2076 - 30ms/epoch - 30ms/step\n",
      "Epoch 32/100\n",
      "1/1 - 0s - loss: 0.0377 - mean_absolute_error: 0.1611 - val_loss: 0.0584 - val_mean_absolute_error: 0.2045 - 27ms/epoch - 27ms/step\n",
      "Epoch 33/100\n",
      "1/1 - 0s - loss: 0.0364 - mean_absolute_error: 0.1598 - val_loss: 0.0545 - val_mean_absolute_error: 0.1971 - 31ms/epoch - 31ms/step\n",
      "Epoch 34/100\n",
      "1/1 - 0s - loss: 0.0355 - mean_absolute_error: 0.1581 - val_loss: 0.0528 - val_mean_absolute_error: 0.1923 - 38ms/epoch - 38ms/step\n",
      "Epoch 35/100\n",
      "1/1 - 0s - loss: 0.0353 - mean_absolute_error: 0.1597 - val_loss: 0.0497 - val_mean_absolute_error: 0.1879 - 28ms/epoch - 28ms/step\n",
      "Epoch 36/100\n",
      "1/1 - 0s - loss: 0.0330 - mean_absolute_error: 0.1547 - val_loss: 0.0490 - val_mean_absolute_error: 0.1864 - 29ms/epoch - 29ms/step\n",
      "Epoch 37/100\n",
      "1/1 - 0s - loss: 0.0324 - mean_absolute_error: 0.1511 - val_loss: 0.0503 - val_mean_absolute_error: 0.1886 - 30ms/epoch - 30ms/step\n",
      "Epoch 38/100\n",
      "1/1 - 0s - loss: 0.0319 - mean_absolute_error: 0.1502 - val_loss: 0.0494 - val_mean_absolute_error: 0.1872 - 29ms/epoch - 29ms/step\n",
      "Epoch 39/100\n",
      "1/1 - 0s - loss: 0.0307 - mean_absolute_error: 0.1488 - val_loss: 0.0484 - val_mean_absolute_error: 0.1830 - 32ms/epoch - 32ms/step\n",
      "Epoch 40/100\n",
      "1/1 - 0s - loss: 0.0299 - mean_absolute_error: 0.1460 - val_loss: 0.0490 - val_mean_absolute_error: 0.1885 - 32ms/epoch - 32ms/step\n",
      "Epoch 41/100\n",
      "1/1 - 0s - loss: 0.0293 - mean_absolute_error: 0.1436 - val_loss: 0.0475 - val_mean_absolute_error: 0.1859 - 29ms/epoch - 29ms/step\n",
      "Epoch 42/100\n",
      "1/1 - 0s - loss: 0.0284 - mean_absolute_error: 0.1404 - val_loss: 0.0494 - val_mean_absolute_error: 0.1887 - 29ms/epoch - 29ms/step\n",
      "Epoch 43/100\n",
      "1/1 - 0s - loss: 0.0272 - mean_absolute_error: 0.1358 - val_loss: 0.0513 - val_mean_absolute_error: 0.1914 - 64ms/epoch - 64ms/step\n",
      "Epoch 44/100\n",
      "1/1 - 0s - loss: 0.0265 - mean_absolute_error: 0.1329 - val_loss: 0.0527 - val_mean_absolute_error: 0.1945 - 33ms/epoch - 33ms/step\n",
      "Epoch 45/100\n",
      "1/1 - 0s - loss: 0.0263 - mean_absolute_error: 0.1329 - val_loss: 0.0524 - val_mean_absolute_error: 0.1920 - 28ms/epoch - 28ms/step\n",
      "Epoch 46/100\n",
      "1/1 - 0s - loss: 0.0251 - mean_absolute_error: 0.1302 - val_loss: 0.0490 - val_mean_absolute_error: 0.1867 - 25ms/epoch - 25ms/step\n",
      "Epoch 47/100\n",
      "1/1 - 0s - loss: 0.0243 - mean_absolute_error: 0.1279 - val_loss: 0.0484 - val_mean_absolute_error: 0.1862 - 27ms/epoch - 27ms/step\n",
      "Epoch 48/100\n",
      "1/1 - 0s - loss: 0.0241 - mean_absolute_error: 0.1271 - val_loss: 0.0485 - val_mean_absolute_error: 0.1828 - 25ms/epoch - 25ms/step\n",
      "Epoch 49/100\n",
      "1/1 - 0s - loss: 0.0237 - mean_absolute_error: 0.1255 - val_loss: 0.0487 - val_mean_absolute_error: 0.1829 - 25ms/epoch - 25ms/step\n",
      "Epoch 50/100\n",
      "1/1 - 0s - loss: 0.0235 - mean_absolute_error: 0.1243 - val_loss: 0.0486 - val_mean_absolute_error: 0.1836 - 27ms/epoch - 27ms/step\n",
      "Epoch 51/100\n",
      "1/1 - 0s - loss: 0.0229 - mean_absolute_error: 0.1222 - val_loss: 0.0473 - val_mean_absolute_error: 0.1785 - 27ms/epoch - 27ms/step\n",
      "Epoch 52/100\n",
      "1/1 - 0s - loss: 0.0226 - mean_absolute_error: 0.1213 - val_loss: 0.0471 - val_mean_absolute_error: 0.1783 - 28ms/epoch - 28ms/step\n",
      "Epoch 53/100\n",
      "1/1 - 0s - loss: 0.0222 - mean_absolute_error: 0.1209 - val_loss: 0.0481 - val_mean_absolute_error: 0.1841 - 24ms/epoch - 24ms/step\n",
      "Epoch 54/100\n",
      "1/1 - 0s - loss: 0.0220 - mean_absolute_error: 0.1201 - val_loss: 0.0474 - val_mean_absolute_error: 0.1831 - 28ms/epoch - 28ms/step\n",
      "Epoch 55/100\n",
      "1/1 - 0s - loss: 0.0217 - mean_absolute_error: 0.1195 - val_loss: 0.0478 - val_mean_absolute_error: 0.1834 - 31ms/epoch - 31ms/step\n",
      "Epoch 56/100\n",
      "1/1 - 0s - loss: 0.0215 - mean_absolute_error: 0.1187 - val_loss: 0.0489 - val_mean_absolute_error: 0.1886 - 31ms/epoch - 31ms/step\n",
      "Epoch 57/100\n",
      "1/1 - 0s - loss: 0.0214 - mean_absolute_error: 0.1172 - val_loss: 0.0466 - val_mean_absolute_error: 0.1829 - 29ms/epoch - 29ms/step\n",
      "Epoch 58/100\n",
      "1/1 - 0s - loss: 0.0209 - mean_absolute_error: 0.1171 - val_loss: 0.0466 - val_mean_absolute_error: 0.1828 - 28ms/epoch - 28ms/step\n",
      "Epoch 59/100\n",
      "1/1 - 0s - loss: 0.0206 - mean_absolute_error: 0.1160 - val_loss: 0.0448 - val_mean_absolute_error: 0.1809 - 29ms/epoch - 29ms/step\n",
      "Epoch 60/100\n",
      "1/1 - 0s - loss: 0.0205 - mean_absolute_error: 0.1159 - val_loss: 0.0437 - val_mean_absolute_error: 0.1758 - 28ms/epoch - 28ms/step\n",
      "Epoch 61/100\n",
      "1/1 - 0s - loss: 0.0202 - mean_absolute_error: 0.1135 - val_loss: 0.0424 - val_mean_absolute_error: 0.1739 - 27ms/epoch - 27ms/step\n",
      "Epoch 62/100\n",
      "1/1 - 0s - loss: 0.0198 - mean_absolute_error: 0.1127 - val_loss: 0.0428 - val_mean_absolute_error: 0.1767 - 25ms/epoch - 25ms/step\n",
      "Epoch 63/100\n",
      "1/1 - 0s - loss: 0.0197 - mean_absolute_error: 0.1127 - val_loss: 0.0426 - val_mean_absolute_error: 0.1753 - 27ms/epoch - 27ms/step\n",
      "Epoch 64/100\n",
      "1/1 - 0s - loss: 0.0195 - mean_absolute_error: 0.1123 - val_loss: 0.0424 - val_mean_absolute_error: 0.1745 - 29ms/epoch - 29ms/step\n",
      "Epoch 65/100\n",
      "1/1 - 0s - loss: 0.0190 - mean_absolute_error: 0.1101 - val_loss: 0.0413 - val_mean_absolute_error: 0.1711 - 29ms/epoch - 29ms/step\n",
      "Epoch 66/100\n",
      "1/1 - 0s - loss: 0.0189 - mean_absolute_error: 0.1107 - val_loss: 0.0432 - val_mean_absolute_error: 0.1715 - 29ms/epoch - 29ms/step\n",
      "Epoch 67/100\n",
      "1/1 - 0s - loss: 0.0190 - mean_absolute_error: 0.1100 - val_loss: 0.0414 - val_mean_absolute_error: 0.1715 - 31ms/epoch - 31ms/step\n",
      "Epoch 68/100\n",
      "1/1 - 0s - loss: 0.0188 - mean_absolute_error: 0.1114 - val_loss: 0.0431 - val_mean_absolute_error: 0.1721 - 29ms/epoch - 29ms/step\n",
      "Epoch 69/100\n",
      "1/1 - 0s - loss: 0.0185 - mean_absolute_error: 0.1083 - val_loss: 0.0419 - val_mean_absolute_error: 0.1702 - 28ms/epoch - 28ms/step\n",
      "Epoch 70/100\n",
      "1/1 - 0s - loss: 0.0186 - mean_absolute_error: 0.1107 - val_loss: 0.0417 - val_mean_absolute_error: 0.1684 - 26ms/epoch - 26ms/step\n",
      "Epoch 71/100\n",
      "1/1 - 0s - loss: 0.0184 - mean_absolute_error: 0.1085 - val_loss: 0.0405 - val_mean_absolute_error: 0.1669 - 30ms/epoch - 30ms/step\n",
      "Epoch 72/100\n",
      "1/1 - 0s - loss: 0.0178 - mean_absolute_error: 0.1079 - val_loss: 0.0402 - val_mean_absolute_error: 0.1645 - 28ms/epoch - 28ms/step\n",
      "Epoch 73/100\n",
      "1/1 - 0s - loss: 0.0173 - mean_absolute_error: 0.1044 - val_loss: 0.0385 - val_mean_absolute_error: 0.1623 - 28ms/epoch - 28ms/step\n",
      "Epoch 74/100\n",
      "1/1 - 0s - loss: 0.0171 - mean_absolute_error: 0.1049 - val_loss: 0.0395 - val_mean_absolute_error: 0.1607 - 29ms/epoch - 29ms/step\n",
      "Epoch 75/100\n",
      "1/1 - 0s - loss: 0.0168 - mean_absolute_error: 0.1031 - val_loss: 0.0385 - val_mean_absolute_error: 0.1596 - 29ms/epoch - 29ms/step\n",
      "Epoch 76/100\n",
      "1/1 - 0s - loss: 0.0165 - mean_absolute_error: 0.1026 - val_loss: 0.0374 - val_mean_absolute_error: 0.1590 - 31ms/epoch - 31ms/step\n",
      "Epoch 77/100\n",
      "1/1 - 0s - loss: 0.0164 - mean_absolute_error: 0.1031 - val_loss: 0.0385 - val_mean_absolute_error: 0.1590 - 27ms/epoch - 27ms/step\n",
      "Epoch 78/100\n",
      "1/1 - 0s - loss: 0.0164 - mean_absolute_error: 0.1022 - val_loss: 0.0362 - val_mean_absolute_error: 0.1564 - 28ms/epoch - 28ms/step\n",
      "Epoch 79/100\n",
      "1/1 - 0s - loss: 0.0161 - mean_absolute_error: 0.1026 - val_loss: 0.0374 - val_mean_absolute_error: 0.1566 - 27ms/epoch - 27ms/step\n",
      "Epoch 80/100\n",
      "1/1 - 0s - loss: 0.0157 - mean_absolute_error: 0.1000 - val_loss: 0.0365 - val_mean_absolute_error: 0.1546 - 28ms/epoch - 28ms/step\n",
      "Epoch 81/100\n",
      "1/1 - 0s - loss: 0.0154 - mean_absolute_error: 0.0992 - val_loss: 0.0354 - val_mean_absolute_error: 0.1536 - 28ms/epoch - 28ms/step\n",
      "Epoch 82/100\n",
      "1/1 - 0s - loss: 0.0153 - mean_absolute_error: 0.0991 - val_loss: 0.0357 - val_mean_absolute_error: 0.1524 - 35ms/epoch - 35ms/step\n",
      "Epoch 83/100\n",
      "1/1 - 0s - loss: 0.0151 - mean_absolute_error: 0.0979 - val_loss: 0.0345 - val_mean_absolute_error: 0.1514 - 29ms/epoch - 29ms/step\n",
      "Epoch 84/100\n",
      "1/1 - 0s - loss: 0.0149 - mean_absolute_error: 0.0980 - val_loss: 0.0350 - val_mean_absolute_error: 0.1515 - 28ms/epoch - 28ms/step\n",
      "Epoch 85/100\n",
      "1/1 - 0s - loss: 0.0147 - mean_absolute_error: 0.0967 - val_loss: 0.0346 - val_mean_absolute_error: 0.1480 - 31ms/epoch - 31ms/step\n",
      "Epoch 86/100\n",
      "1/1 - 0s - loss: 0.0146 - mean_absolute_error: 0.0968 - val_loss: 0.0341 - val_mean_absolute_error: 0.1500 - 29ms/epoch - 29ms/step\n",
      "Epoch 87/100\n",
      "1/1 - 0s - loss: 0.0144 - mean_absolute_error: 0.0960 - val_loss: 0.0338 - val_mean_absolute_error: 0.1460 - 90ms/epoch - 90ms/step\n",
      "Epoch 88/100\n",
      "1/1 - 0s - loss: 0.0142 - mean_absolute_error: 0.0947 - val_loss: 0.0331 - val_mean_absolute_error: 0.1460 - 34ms/epoch - 34ms/step\n",
      "Epoch 89/100\n",
      "1/1 - 0s - loss: 0.0139 - mean_absolute_error: 0.0939 - val_loss: 0.0330 - val_mean_absolute_error: 0.1435 - 36ms/epoch - 36ms/step\n",
      "Epoch 90/100\n",
      "1/1 - 0s - loss: 0.0137 - mean_absolute_error: 0.0931 - val_loss: 0.0329 - val_mean_absolute_error: 0.1432 - 26ms/epoch - 26ms/step\n",
      "Epoch 91/100\n",
      "1/1 - 0s - loss: 0.0136 - mean_absolute_error: 0.0926 - val_loss: 0.0327 - val_mean_absolute_error: 0.1439 - 23ms/epoch - 23ms/step\n",
      "Epoch 92/100\n",
      "1/1 - 0s - loss: 0.0135 - mean_absolute_error: 0.0919 - val_loss: 0.0329 - val_mean_absolute_error: 0.1418 - 22ms/epoch - 22ms/step\n",
      "Epoch 93/100\n",
      "1/1 - 0s - loss: 0.0134 - mean_absolute_error: 0.0912 - val_loss: 0.0323 - val_mean_absolute_error: 0.1420 - 25ms/epoch - 25ms/step\n",
      "Epoch 94/100\n",
      "1/1 - 0s - loss: 0.0132 - mean_absolute_error: 0.0914 - val_loss: 0.0331 - val_mean_absolute_error: 0.1418 - 26ms/epoch - 26ms/step\n",
      "Epoch 95/100\n",
      "1/1 - 0s - loss: 0.0131 - mean_absolute_error: 0.0905 - val_loss: 0.0328 - val_mean_absolute_error: 0.1423 - 30ms/epoch - 30ms/step\n",
      "Epoch 96/100\n",
      "1/1 - 0s - loss: 0.0130 - mean_absolute_error: 0.0905 - val_loss: 0.0332 - val_mean_absolute_error: 0.1409 - 39ms/epoch - 39ms/step\n",
      "Epoch 97/100\n",
      "1/1 - 0s - loss: 0.0128 - mean_absolute_error: 0.0891 - val_loss: 0.0325 - val_mean_absolute_error: 0.1397 - 35ms/epoch - 35ms/step\n",
      "Epoch 98/100\n",
      "1/1 - 0s - loss: 0.0127 - mean_absolute_error: 0.0891 - val_loss: 0.0327 - val_mean_absolute_error: 0.1396 - 30ms/epoch - 30ms/step\n",
      "Epoch 99/100\n",
      "1/1 - 0s - loss: 0.0126 - mean_absolute_error: 0.0884 - val_loss: 0.0322 - val_mean_absolute_error: 0.1393 - 26ms/epoch - 26ms/step\n",
      "Epoch 100/100\n",
      "1/1 - 0s - loss: 0.0125 - mean_absolute_error: 0.0881 - val_loss: 0.0326 - val_mean_absolute_error: 0.1398 - 30ms/epoch - 30ms/step\n"
     ]
    }
   ],
   "source": [
    "training_result = neural_network_model.fit(x=train_input, y=train_output, validation_split=0.2, batch_size=50, epochs=100, shuffle=True, verbose=2)"
   ]
  },
  {
   "cell_type": "code",
   "execution_count": 9,
   "metadata": {},
   "outputs": [
    {
     "data": {
      "text/plain": [
       "<matplotlib.legend.Legend at 0x12ad5e40790>"
      ]
     },
     "execution_count": 9,
     "metadata": {},
     "output_type": "execute_result"
    },
    {
     "data": {
      "image/png": "[encoded data removed]",
      "text/plain": [
       "<Figure size 640x480 with 1 Axes>"
      ]
     },
     "metadata": {},
     "output_type": "display_data"
    }
   ],
   "source": [
    "plt.plot(training_result.history['loss'], label='Training Loss')\n",
    "plt.plot(training_result.history['val_loss'], label='Validation Loss')\n",
    "plt.legend()"
   ]
  },
  {
   "cell_type": "code",
   "execution_count": null,
   "metadata": {},
   "outputs": [],
   "source": [
    "test_predictions = neural_network_model.predict(test_input)"
   ]
  },
  {
   "cell_type": "code",
   "execution_count": 13,
   "metadata": {},
   "outputs": [
    {
     "name": "stdout",
     "output_type": "stream",
     "text": [
      "1/1 [==============================] - 0s 27ms/step\n",
      "Mean Absolute Error: 0.1681556641209998\n"
     ]
    }
   ],
   "source": [
    "mae = mean_absolute_error(test_output, test_predictions)\n",
    "print('Mean Absolute Error:', mae)"
   ]
  },
  {
   "cell_type": "code",
   "execution_count": null,
   "metadata": {},
   "outputs": [],
   "source": []
  }
 ],
 "metadata": {
  "kernelspec": {
   "display_name": "Python 3",
   "language": "python",
   "name": "python3"
  },
  "language_info": {
   "codemirror_mode": {
    "name": "ipython",
    "version": 3
   },
   "file_extension": ".py",
   "mimetype": "text/x-python",
   "name": "python",
   "nbconvert_exporter": "python",
   "pygments_lexer": "ipython3",
   "version": "3.11.0"
  }
 },
 "nbformat": 4,
 "nbformat_minor": 2
}
