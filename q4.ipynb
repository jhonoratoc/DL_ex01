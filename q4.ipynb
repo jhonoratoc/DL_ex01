{
 "cells": [
  {
   "cell_type": "code",
   "execution_count": 44,
   "metadata": {},
   "outputs": [],
   "source": [
    "import numpy as np\n",
    "from random import uniform\n",
    "from sklearn.utils import shuffle\n",
    "from sklearn.model_selection import train_test_split\n",
    "import tensorflow as tf\n",
    "from tensorflow import keras\n",
    "from tensorflow.keras.models import Sequential\n",
    "from tensorflow.keras.layers import Activation, Dense\n",
    "from tensorflow.keras.optimizers import Adam\n",
    "from sklearn.metrics import mean_absolute_error\n",
    "from matplotlib import pyplot as plt"
   ]
  },
  {
   "cell_type": "code",
   "execution_count": 45,
   "metadata": {},
   "outputs": [],
   "source": [
    "def generate_time_series_data(n):\n",
    "    return np.sin(n + np.sin(n)**2)\n",
    "\n",
    "input_samples = []\n",
    "output_labels = []\n",
    "\n",
    "input_range = 10 #pra cada ponto, olharemos 10 pontos antes\n",
    "step_size = 0.3#amostras de valores entre n-8 até n e variando 0.3 entre cada valor\n",
    "for n in range(0, 300):\n",
    "    input_data = []\n",
    "    output_data = []\n",
    "    for x in np.arange(n - input_range, n, step_size):\n",
    "        input_data.append(generate_time_series_data(x))\n",
    "    input_samples.append(input_data)\n",
    "    for y in np.arange(n, n + 3, step_size):\n",
    "        output_data.append(generate_time_series_data(y))\n",
    "    output_labels.append(output_data)\n"
   ]
  },
  {
   "cell_type": "code",
   "execution_count": 46,
   "metadata": {},
   "outputs": [],
   "source": [
    "input_samples = np.array(input_samples)\n",
    "output_labels = np.array(output_labels)"
   ]
  },
  {
   "cell_type": "code",
   "execution_count": 47,
   "metadata": {},
   "outputs": [
    {
     "name": "stdout",
     "output_type": "stream",
     "text": [
      "(240, 34)\n",
      "(240, 10)\n"
     ]
    }
   ],
   "source": [
    "train_input, test_input, train_output, test_output = train_test_split(input_samples, output_labels, test_size=0.2, random_state=33)\n",
    "print(train_input.shape)\n",
    "print(train_output.shape)"
   ]
  },
  {
   "cell_type": "code",
   "execution_count": 48,
   "metadata": {},
   "outputs": [],
   "source": [
    "neural_network_model = Sequential([\n",
    "    Dense(units=5, input_shape=(34,), activation='relu'),   \n",
    "    Dense(units=10, activation='linear'),\n",
    "])"
   ]
  },
  {
   "cell_type": "code",
   "execution_count": 49,
   "metadata": {},
   "outputs": [],
   "source": [
    "neural_network_model.compile(optimizer=Adam(learning_rate=0.1), loss='mean_squared_error', metrics=['mean_absolute_error'])"
   ]
  },
  {
   "cell_type": "code",
   "execution_count": 50,
   "metadata": {},
   "outputs": [
    {
     "name": "stdout",
     "output_type": "stream",
     "text": [
      "Epoch 1/100\n"
     ]
    },
    {
     "name": "stdout",
     "output_type": "stream",
     "text": [
      "4/4 - 1s - loss: 0.3568 - mean_absolute_error: 0.4764 - val_loss: 0.1871 - val_mean_absolute_error: 0.3545 - 680ms/epoch - 170ms/step\n",
      "Epoch 2/100\n",
      "4/4 - 0s - loss: 0.1522 - mean_absolute_error: 0.3168 - val_loss: 0.1180 - val_mean_absolute_error: 0.2801 - 34ms/epoch - 9ms/step\n",
      "Epoch 3/100\n",
      "4/4 - 0s - loss: 0.1141 - mean_absolute_error: 0.2772 - val_loss: 0.0953 - val_mean_absolute_error: 0.2478 - 42ms/epoch - 10ms/step\n",
      "Epoch 4/100\n",
      "4/4 - 0s - loss: 0.0936 - mean_absolute_error: 0.2460 - val_loss: 0.0847 - val_mean_absolute_error: 0.2348 - 35ms/epoch - 9ms/step\n",
      "Epoch 5/100\n",
      "4/4 - 0s - loss: 0.0726 - mean_absolute_error: 0.2185 - val_loss: 0.0612 - val_mean_absolute_error: 0.2054 - 38ms/epoch - 10ms/step\n",
      "Epoch 6/100\n",
      "4/4 - 0s - loss: 0.0576 - mean_absolute_error: 0.2000 - val_loss: 0.0500 - val_mean_absolute_error: 0.1850 - 39ms/epoch - 10ms/step\n",
      "Epoch 7/100\n",
      "4/4 - 0s - loss: 0.0499 - mean_absolute_error: 0.1843 - val_loss: 0.0510 - val_mean_absolute_error: 0.1889 - 39ms/epoch - 10ms/step\n",
      "Epoch 8/100\n",
      "4/4 - 0s - loss: 0.0485 - mean_absolute_error: 0.1818 - val_loss: 0.0453 - val_mean_absolute_error: 0.1776 - 35ms/epoch - 9ms/step\n",
      "Epoch 9/100\n",
      "4/4 - 0s - loss: 0.0423 - mean_absolute_error: 0.1711 - val_loss: 0.0385 - val_mean_absolute_error: 0.1641 - 32ms/epoch - 8ms/step\n",
      "Epoch 10/100\n",
      "4/4 - 0s - loss: 0.0372 - mean_absolute_error: 0.1582 - val_loss: 0.0342 - val_mean_absolute_error: 0.1516 - 32ms/epoch - 8ms/step\n",
      "Epoch 11/100\n",
      "4/4 - 0s - loss: 0.0332 - mean_absolute_error: 0.1486 - val_loss: 0.0309 - val_mean_absolute_error: 0.1431 - 107ms/epoch - 27ms/step\n",
      "Epoch 12/100\n",
      "4/4 - 0s - loss: 0.0299 - mean_absolute_error: 0.1404 - val_loss: 0.0279 - val_mean_absolute_error: 0.1373 - 40ms/epoch - 10ms/step\n",
      "Epoch 13/100\n",
      "4/4 - 0s - loss: 0.0279 - mean_absolute_error: 0.1345 - val_loss: 0.0246 - val_mean_absolute_error: 0.1279 - 39ms/epoch - 10ms/step\n",
      "Epoch 14/100\n",
      "4/4 - 0s - loss: 0.0252 - mean_absolute_error: 0.1283 - val_loss: 0.0229 - val_mean_absolute_error: 0.1253 - 27ms/epoch - 7ms/step\n",
      "Epoch 15/100\n",
      "4/4 - 0s - loss: 0.0235 - mean_absolute_error: 0.1231 - val_loss: 0.0222 - val_mean_absolute_error: 0.1209 - 28ms/epoch - 7ms/step\n",
      "Epoch 16/100\n",
      "4/4 - 0s - loss: 0.0223 - mean_absolute_error: 0.1204 - val_loss: 0.0218 - val_mean_absolute_error: 0.1178 - 30ms/epoch - 7ms/step\n",
      "Epoch 17/100\n",
      "4/4 - 0s - loss: 0.0214 - mean_absolute_error: 0.1151 - val_loss: 0.0195 - val_mean_absolute_error: 0.1131 - 32ms/epoch - 8ms/step\n",
      "Epoch 18/100\n",
      "4/4 - 0s - loss: 0.0192 - mean_absolute_error: 0.1113 - val_loss: 0.0195 - val_mean_absolute_error: 0.1120 - 33ms/epoch - 8ms/step\n",
      "Epoch 19/100\n",
      "4/4 - 0s - loss: 0.0181 - mean_absolute_error: 0.1075 - val_loss: 0.0189 - val_mean_absolute_error: 0.1111 - 32ms/epoch - 8ms/step\n",
      "Epoch 20/100\n",
      "4/4 - 0s - loss: 0.0182 - mean_absolute_error: 0.1074 - val_loss: 0.0195 - val_mean_absolute_error: 0.1094 - 39ms/epoch - 10ms/step\n",
      "Epoch 21/100\n",
      "4/4 - 0s - loss: 0.0185 - mean_absolute_error: 0.1039 - val_loss: 0.0199 - val_mean_absolute_error: 0.1107 - 37ms/epoch - 9ms/step\n",
      "Epoch 22/100\n",
      "4/4 - 0s - loss: 0.0168 - mean_absolute_error: 0.1012 - val_loss: 0.0178 - val_mean_absolute_error: 0.1066 - 33ms/epoch - 8ms/step\n",
      "Epoch 23/100\n",
      "4/4 - 0s - loss: 0.0176 - mean_absolute_error: 0.1037 - val_loss: 0.0193 - val_mean_absolute_error: 0.1076 - 32ms/epoch - 8ms/step\n",
      "Epoch 24/100\n",
      "4/4 - 0s - loss: 0.0165 - mean_absolute_error: 0.1010 - val_loss: 0.0181 - val_mean_absolute_error: 0.1073 - 32ms/epoch - 8ms/step\n",
      "Epoch 25/100\n",
      "4/4 - 0s - loss: 0.0170 - mean_absolute_error: 0.1014 - val_loss: 0.0184 - val_mean_absolute_error: 0.1032 - 32ms/epoch - 8ms/step\n",
      "Epoch 26/100\n",
      "4/4 - 0s - loss: 0.0156 - mean_absolute_error: 0.0984 - val_loss: 0.0160 - val_mean_absolute_error: 0.1000 - 36ms/epoch - 9ms/step\n",
      "Epoch 27/100\n",
      "4/4 - 0s - loss: 0.0161 - mean_absolute_error: 0.0987 - val_loss: 0.0173 - val_mean_absolute_error: 0.1016 - 40ms/epoch - 10ms/step\n",
      "Epoch 28/100\n",
      "4/4 - 0s - loss: 0.0141 - mean_absolute_error: 0.0915 - val_loss: 0.0146 - val_mean_absolute_error: 0.0947 - 36ms/epoch - 9ms/step\n",
      "Epoch 29/100\n",
      "4/4 - 0s - loss: 0.0133 - mean_absolute_error: 0.0884 - val_loss: 0.0147 - val_mean_absolute_error: 0.0877 - 34ms/epoch - 9ms/step\n",
      "Epoch 30/100\n",
      "4/4 - 0s - loss: 0.0126 - mean_absolute_error: 0.0839 - val_loss: 0.0138 - val_mean_absolute_error: 0.0872 - 34ms/epoch - 9ms/step\n",
      "Epoch 31/100\n",
      "4/4 - 0s - loss: 0.0126 - mean_absolute_error: 0.0842 - val_loss: 0.0137 - val_mean_absolute_error: 0.0868 - 44ms/epoch - 11ms/step\n",
      "Epoch 32/100\n",
      "4/4 - 0s - loss: 0.0124 - mean_absolute_error: 0.0837 - val_loss: 0.0122 - val_mean_absolute_error: 0.0797 - 38ms/epoch - 10ms/step\n",
      "Epoch 33/100\n",
      "4/4 - 0s - loss: 0.0126 - mean_absolute_error: 0.0846 - val_loss: 0.0146 - val_mean_absolute_error: 0.0900 - 26ms/epoch - 7ms/step\n",
      "Epoch 34/100\n",
      "4/4 - 0s - loss: 0.0125 - mean_absolute_error: 0.0837 - val_loss: 0.0129 - val_mean_absolute_error: 0.0808 - 31ms/epoch - 8ms/step\n",
      "Epoch 35/100\n",
      "4/4 - 0s - loss: 0.0122 - mean_absolute_error: 0.0817 - val_loss: 0.0135 - val_mean_absolute_error: 0.0852 - 30ms/epoch - 7ms/step\n",
      "Epoch 36/100\n",
      "4/4 - 0s - loss: 0.0129 - mean_absolute_error: 0.0858 - val_loss: 0.0125 - val_mean_absolute_error: 0.0802 - 27ms/epoch - 7ms/step\n",
      "Epoch 37/100\n",
      "4/4 - 0s - loss: 0.0124 - mean_absolute_error: 0.0832 - val_loss: 0.0130 - val_mean_absolute_error: 0.0817 - 32ms/epoch - 8ms/step\n",
      "Epoch 38/100\n",
      "4/4 - 0s - loss: 0.0122 - mean_absolute_error: 0.0806 - val_loss: 0.0135 - val_mean_absolute_error: 0.0831 - 31ms/epoch - 8ms/step\n",
      "Epoch 39/100\n",
      "4/4 - 0s - loss: 0.0121 - mean_absolute_error: 0.0806 - val_loss: 0.0131 - val_mean_absolute_error: 0.0824 - 32ms/epoch - 8ms/step\n",
      "Epoch 40/100\n",
      "4/4 - 0s - loss: 0.0119 - mean_absolute_error: 0.0809 - val_loss: 0.0131 - val_mean_absolute_error: 0.0830 - 29ms/epoch - 7ms/step\n",
      "Epoch 41/100\n",
      "4/4 - 0s - loss: 0.0120 - mean_absolute_error: 0.0808 - val_loss: 0.0135 - val_mean_absolute_error: 0.0846 - 30ms/epoch - 8ms/step\n",
      "Epoch 42/100\n",
      "4/4 - 0s - loss: 0.0122 - mean_absolute_error: 0.0817 - val_loss: 0.0129 - val_mean_absolute_error: 0.0818 - 31ms/epoch - 8ms/step\n",
      "Epoch 43/100\n",
      "4/4 - 0s - loss: 0.0118 - mean_absolute_error: 0.0787 - val_loss: 0.0123 - val_mean_absolute_error: 0.0772 - 31ms/epoch - 8ms/step\n",
      "Epoch 44/100\n",
      "4/4 - 0s - loss: 0.0112 - mean_absolute_error: 0.0765 - val_loss: 0.0127 - val_mean_absolute_error: 0.0810 - 31ms/epoch - 8ms/step\n",
      "Epoch 45/100\n",
      "4/4 - 0s - loss: 0.0119 - mean_absolute_error: 0.0797 - val_loss: 0.0130 - val_mean_absolute_error: 0.0820 - 28ms/epoch - 7ms/step\n",
      "Epoch 46/100\n",
      "4/4 - 0s - loss: 0.0117 - mean_absolute_error: 0.0796 - val_loss: 0.0126 - val_mean_absolute_error: 0.0815 - 31ms/epoch - 8ms/step\n",
      "Epoch 47/100\n",
      "4/4 - 0s - loss: 0.0119 - mean_absolute_error: 0.0795 - val_loss: 0.0139 - val_mean_absolute_error: 0.0841 - 84ms/epoch - 21ms/step\n",
      "Epoch 48/100\n",
      "4/4 - 0s - loss: 0.0119 - mean_absolute_error: 0.0804 - val_loss: 0.0130 - val_mean_absolute_error: 0.0804 - 35ms/epoch - 9ms/step\n",
      "Epoch 49/100\n",
      "4/4 - 0s - loss: 0.0116 - mean_absolute_error: 0.0793 - val_loss: 0.0125 - val_mean_absolute_error: 0.0815 - 29ms/epoch - 7ms/step\n",
      "Epoch 50/100\n",
      "4/4 - 0s - loss: 0.0121 - mean_absolute_error: 0.0810 - val_loss: 0.0137 - val_mean_absolute_error: 0.0846 - 27ms/epoch - 7ms/step\n",
      "Epoch 51/100\n",
      "4/4 - 0s - loss: 0.0114 - mean_absolute_error: 0.0781 - val_loss: 0.0119 - val_mean_absolute_error: 0.0784 - 31ms/epoch - 8ms/step\n",
      "Epoch 52/100\n",
      "4/4 - 0s - loss: 0.0111 - mean_absolute_error: 0.0770 - val_loss: 0.0125 - val_mean_absolute_error: 0.0814 - 28ms/epoch - 7ms/step\n",
      "Epoch 53/100\n",
      "4/4 - 0s - loss: 0.0113 - mean_absolute_error: 0.0790 - val_loss: 0.0131 - val_mean_absolute_error: 0.0852 - 29ms/epoch - 7ms/step\n",
      "Epoch 54/100\n",
      "4/4 - 0s - loss: 0.0116 - mean_absolute_error: 0.0806 - val_loss: 0.0125 - val_mean_absolute_error: 0.0826 - 32ms/epoch - 8ms/step\n",
      "Epoch 55/100\n",
      "4/4 - 0s - loss: 0.0116 - mean_absolute_error: 0.0800 - val_loss: 0.0124 - val_mean_absolute_error: 0.0811 - 34ms/epoch - 8ms/step\n",
      "Epoch 56/100\n",
      "4/4 - 0s - loss: 0.0110 - mean_absolute_error: 0.0772 - val_loss: 0.0128 - val_mean_absolute_error: 0.0823 - 30ms/epoch - 8ms/step\n",
      "Epoch 57/100\n",
      "4/4 - 0s - loss: 0.0113 - mean_absolute_error: 0.0770 - val_loss: 0.0135 - val_mean_absolute_error: 0.0855 - 32ms/epoch - 8ms/step\n",
      "Epoch 58/100\n",
      "4/4 - 0s - loss: 0.0113 - mean_absolute_error: 0.0794 - val_loss: 0.0112 - val_mean_absolute_error: 0.0785 - 31ms/epoch - 8ms/step\n",
      "Epoch 59/100\n",
      "4/4 - 0s - loss: 0.0114 - mean_absolute_error: 0.0808 - val_loss: 0.0129 - val_mean_absolute_error: 0.0840 - 29ms/epoch - 7ms/step\n",
      "Epoch 60/100\n",
      "4/4 - 0s - loss: 0.0109 - mean_absolute_error: 0.0780 - val_loss: 0.0141 - val_mean_absolute_error: 0.0919 - 30ms/epoch - 8ms/step\n",
      "Epoch 61/100\n",
      "4/4 - 0s - loss: 0.0127 - mean_absolute_error: 0.0863 - val_loss: 0.0130 - val_mean_absolute_error: 0.0859 - 31ms/epoch - 8ms/step\n",
      "Epoch 62/100\n",
      "4/4 - 0s - loss: 0.0121 - mean_absolute_error: 0.0852 - val_loss: 0.0103 - val_mean_absolute_error: 0.0796 - 30ms/epoch - 7ms/step\n",
      "Epoch 63/100\n",
      "4/4 - 0s - loss: 0.0127 - mean_absolute_error: 0.0852 - val_loss: 0.0148 - val_mean_absolute_error: 0.0957 - 31ms/epoch - 8ms/step\n",
      "Epoch 64/100\n",
      "4/4 - 0s - loss: 0.0128 - mean_absolute_error: 0.0869 - val_loss: 0.0132 - val_mean_absolute_error: 0.0915 - 28ms/epoch - 7ms/step\n",
      "Epoch 65/100\n",
      "4/4 - 0s - loss: 0.0109 - mean_absolute_error: 0.0811 - val_loss: 0.0101 - val_mean_absolute_error: 0.0761 - 30ms/epoch - 8ms/step\n",
      "Epoch 66/100\n",
      "4/4 - 0s - loss: 0.0101 - mean_absolute_error: 0.0788 - val_loss: 0.0079 - val_mean_absolute_error: 0.0690 - 31ms/epoch - 8ms/step\n",
      "Epoch 67/100\n",
      "4/4 - 0s - loss: 0.0089 - mean_absolute_error: 0.0720 - val_loss: 0.0077 - val_mean_absolute_error: 0.0636 - 29ms/epoch - 7ms/step\n",
      "Epoch 68/100\n",
      "4/4 - 0s - loss: 0.0081 - mean_absolute_error: 0.0678 - val_loss: 0.0073 - val_mean_absolute_error: 0.0655 - 31ms/epoch - 8ms/step\n",
      "Epoch 69/100\n",
      "4/4 - 0s - loss: 0.0075 - mean_absolute_error: 0.0667 - val_loss: 0.0066 - val_mean_absolute_error: 0.0631 - 31ms/epoch - 8ms/step\n",
      "Epoch 70/100\n",
      "4/4 - 0s - loss: 0.0067 - mean_absolute_error: 0.0632 - val_loss: 0.0065 - val_mean_absolute_error: 0.0581 - 29ms/epoch - 7ms/step\n",
      "Epoch 71/100\n",
      "4/4 - 0s - loss: 0.0058 - mean_absolute_error: 0.0564 - val_loss: 0.0051 - val_mean_absolute_error: 0.0549 - 29ms/epoch - 7ms/step\n",
      "Epoch 72/100\n",
      "4/4 - 0s - loss: 0.0053 - mean_absolute_error: 0.0545 - val_loss: 0.0050 - val_mean_absolute_error: 0.0545 - 28ms/epoch - 7ms/step\n",
      "Epoch 73/100\n",
      "4/4 - 0s - loss: 0.0048 - mean_absolute_error: 0.0511 - val_loss: 0.0045 - val_mean_absolute_error: 0.0512 - 31ms/epoch - 8ms/step\n",
      "Epoch 74/100\n",
      "4/4 - 0s - loss: 0.0058 - mean_absolute_error: 0.0583 - val_loss: 0.0041 - val_mean_absolute_error: 0.0504 - 30ms/epoch - 7ms/step\n",
      "Epoch 75/100\n",
      "4/4 - 0s - loss: 0.0043 - mean_absolute_error: 0.0502 - val_loss: 0.0039 - val_mean_absolute_error: 0.0483 - 31ms/epoch - 8ms/step\n",
      "Epoch 76/100\n",
      "4/4 - 0s - loss: 0.0046 - mean_absolute_error: 0.0527 - val_loss: 0.0049 - val_mean_absolute_error: 0.0556 - 31ms/epoch - 8ms/step\n",
      "Epoch 77/100\n",
      "4/4 - 0s - loss: 0.0048 - mean_absolute_error: 0.0552 - val_loss: 0.0063 - val_mean_absolute_error: 0.0605 - 31ms/epoch - 8ms/step\n",
      "Epoch 78/100\n",
      "4/4 - 0s - loss: 0.0049 - mean_absolute_error: 0.0537 - val_loss: 0.0034 - val_mean_absolute_error: 0.0450 - 30ms/epoch - 8ms/step\n",
      "Epoch 79/100\n",
      "4/4 - 0s - loss: 0.0039 - mean_absolute_error: 0.0484 - val_loss: 0.0036 - val_mean_absolute_error: 0.0476 - 29ms/epoch - 7ms/step\n",
      "Epoch 80/100\n",
      "4/4 - 0s - loss: 0.0034 - mean_absolute_error: 0.0459 - val_loss: 0.0022 - val_mean_absolute_error: 0.0364 - 32ms/epoch - 8ms/step\n",
      "Epoch 81/100\n",
      "4/4 - 0s - loss: 0.0031 - mean_absolute_error: 0.0436 - val_loss: 0.0027 - val_mean_absolute_error: 0.0394 - 29ms/epoch - 7ms/step\n",
      "Epoch 82/100\n",
      "4/4 - 0s - loss: 0.0029 - mean_absolute_error: 0.0419 - val_loss: 0.0028 - val_mean_absolute_error: 0.0407 - 28ms/epoch - 7ms/step\n",
      "Epoch 83/100\n",
      "4/4 - 0s - loss: 0.0032 - mean_absolute_error: 0.0442 - val_loss: 0.0034 - val_mean_absolute_error: 0.0446 - 28ms/epoch - 7ms/step\n",
      "Epoch 84/100\n",
      "4/4 - 0s - loss: 0.0046 - mean_absolute_error: 0.0533 - val_loss: 0.0033 - val_mean_absolute_error: 0.0458 - 29ms/epoch - 7ms/step\n",
      "Epoch 85/100\n",
      "4/4 - 0s - loss: 0.0044 - mean_absolute_error: 0.0532 - val_loss: 0.0059 - val_mean_absolute_error: 0.0616 - 30ms/epoch - 7ms/step\n",
      "Epoch 86/100\n",
      "4/4 - 0s - loss: 0.0056 - mean_absolute_error: 0.0597 - val_loss: 0.0041 - val_mean_absolute_error: 0.0496 - 30ms/epoch - 7ms/step\n",
      "Epoch 87/100\n",
      "4/4 - 0s - loss: 0.0034 - mean_absolute_error: 0.0471 - val_loss: 0.0024 - val_mean_absolute_error: 0.0397 - 31ms/epoch - 8ms/step\n",
      "Epoch 88/100\n",
      "4/4 - 0s - loss: 0.0027 - mean_absolute_error: 0.0417 - val_loss: 0.0036 - val_mean_absolute_error: 0.0485 - 35ms/epoch - 9ms/step\n",
      "Epoch 89/100\n",
      "4/4 - 0s - loss: 0.0031 - mean_absolute_error: 0.0438 - val_loss: 0.0023 - val_mean_absolute_error: 0.0375 - 31ms/epoch - 8ms/step\n",
      "Epoch 90/100\n",
      "4/4 - 0s - loss: 0.0025 - mean_absolute_error: 0.0393 - val_loss: 0.0016 - val_mean_absolute_error: 0.0320 - 31ms/epoch - 8ms/step\n",
      "Epoch 91/100\n",
      "4/4 - 0s - loss: 0.0017 - mean_absolute_error: 0.0333 - val_loss: 0.0026 - val_mean_absolute_error: 0.0414 - 30ms/epoch - 7ms/step\n",
      "Epoch 92/100\n",
      "4/4 - 0s - loss: 0.0021 - mean_absolute_error: 0.0361 - val_loss: 0.0022 - val_mean_absolute_error: 0.0374 - 70ms/epoch - 18ms/step\n",
      "Epoch 93/100\n",
      "4/4 - 0s - loss: 0.0021 - mean_absolute_error: 0.0358 - val_loss: 0.0013 - val_mean_absolute_error: 0.0299 - 38ms/epoch - 9ms/step\n",
      "Epoch 94/100\n",
      "4/4 - 0s - loss: 0.0021 - mean_absolute_error: 0.0356 - val_loss: 0.0028 - val_mean_absolute_error: 0.0420 - 28ms/epoch - 7ms/step\n",
      "Epoch 95/100\n",
      "4/4 - 0s - loss: 0.0034 - mean_absolute_error: 0.0455 - val_loss: 0.0037 - val_mean_absolute_error: 0.0494 - 28ms/epoch - 7ms/step\n",
      "Epoch 96/100\n",
      "4/4 - 0s - loss: 0.0026 - mean_absolute_error: 0.0406 - val_loss: 0.0020 - val_mean_absolute_error: 0.0358 - 29ms/epoch - 7ms/step\n",
      "Epoch 97/100\n",
      "4/4 - 0s - loss: 0.0021 - mean_absolute_error: 0.0367 - val_loss: 0.0017 - val_mean_absolute_error: 0.0337 - 28ms/epoch - 7ms/step\n",
      "Epoch 98/100\n",
      "4/4 - 0s - loss: 0.0018 - mean_absolute_error: 0.0343 - val_loss: 0.0030 - val_mean_absolute_error: 0.0453 - 26ms/epoch - 6ms/step\n",
      "Epoch 99/100\n",
      "4/4 - 0s - loss: 0.0021 - mean_absolute_error: 0.0367 - val_loss: 0.0022 - val_mean_absolute_error: 0.0377 - 29ms/epoch - 7ms/step\n",
      "Epoch 100/100\n",
      "4/4 - 0s - loss: 0.0018 - mean_absolute_error: 0.0339 - val_loss: 0.0018 - val_mean_absolute_error: 0.0338 - 29ms/epoch - 7ms/step\n"
     ]
    }
   ],
   "source": [
    "training_result = neural_network_model.fit(x=train_input, y=train_output, validation_split=0.2, batch_size=50, epochs=100, shuffle=True, verbose=2)"
   ]
  },
  {
   "cell_type": "code",
   "execution_count": 51,
   "metadata": {},
   "outputs": [
    {
     "data": {
      "text/plain": [
       "<matplotlib.legend.Legend at 0x12add298710>"
      ]
     },
     "execution_count": 51,
     "metadata": {},
     "output_type": "execute_result"
    },
    {
     "data": {
      "image/png": "[encoded data removed]",
      "text/plain": [
       "<Figure size 640x480 with 1 Axes>"
      ]
     },
     "metadata": {},
     "output_type": "display_data"
    }
   ],
   "source": [
    "plt.plot(training_result.history['loss'], label='Training Loss')\n",
    "plt.plot(training_result.history['val_loss'], label='Validation Loss')\n",
    "plt.legend()"
   ]
  },
  {
   "cell_type": "code",
   "execution_count": 52,
   "metadata": {},
   "outputs": [
    {
     "name": "stdout",
     "output_type": "stream",
     "text": [
      "WARNING:tensorflow:5 out of the last 10 calls to <function Model.make_predict_function.<locals>.predict_function at 0x0000012ADD3D8B80> triggered tf.function retracing. Tracing is expensive and the excessive number of tracings could be due to (1) creating @tf.function repeatedly in a loop, (2) passing tensors with different shapes, (3) passing Python objects instead of tensors. For (1), please define your @tf.function outside of the loop. For (2), @tf.function has reduce_retracing=True option that can avoid unnecessary retracing. For (3), please refer to https://www.tensorflow.org/guide/function#controlling_retracing and https://www.tensorflow.org/api_docs/python/tf/function for  more details.\n",
      "2/2 [==============================] - 0s 2ms/step\n"
     ]
    }
   ],
   "source": [
    "test_predictions = neural_network_model.predict(test_input)"
   ]
  },
  {
   "cell_type": "code",
   "execution_count": 53,
   "metadata": {},
   "outputs": [
    {
     "name": "stdout",
     "output_type": "stream",
     "text": [
      "Mean Absolute Error: 0.032124741708000774\n"
     ]
    }
   ],
   "source": [
    "mae = mean_absolute_error(test_output, test_predictions)\n",
    "print('Mean Absolute Error:', mae)"
   ]
  },
  {
   "cell_type": "code",
   "execution_count": null,
   "metadata": {},
   "outputs": [],
   "source": []
  }
 ],
 "metadata": {
  "kernelspec": {
   "display_name": "Python 3",
   "language": "python",
   "name": "python3"
  },
  "language_info": {
   "codemirror_mode": {
    "name": "ipython",
    "version": 3
   },
   "file_extension": ".py",
   "mimetype": "text/x-python",
   "name": "python",
   "nbconvert_exporter": "python",
   "pygments_lexer": "ipython3",
   "version": "3.11.0"
  }
 },
 "nbformat": 4,
 "nbformat_minor": 2
}
